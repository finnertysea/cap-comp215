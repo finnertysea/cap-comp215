{
 "cells": [
  {
   "cell_type": "markdown",
   "source": [
    "# Python Foundations:  Generators\n",
    "New Python syntax / concepts - generator functions and expressions\n",
    "\n",
    "Foundations notebook available on Github from the powderflask/cap-comp215 repository.\n",
    "As usual, the first code block just imports the modules we will use."
   ],
   "metadata": {
    "collapsed": false
   },
   "id": "b440028b0e4da231"
  },
  {
   "cell_type": "code",
   "execution_count": 23,
   "outputs": [],
   "source": [
    "import math\n",
    "from pprint import pprint"
   ],
   "metadata": {
    "collapsed": false,
    "ExecuteTime": {
     "end_time": "2024-01-01T21:46:43.015316Z",
     "start_time": "2024-01-01T21:46:43.010889Z"
    }
   },
   "id": "2d782bf8ed66d7ed"
  },
  {
   "cell_type": "markdown",
   "source": [
    "\n",
    "## Generator expressions\n",
    "A `generator` is a series of values that may only be accessed in sequence, from the start.\n",
    "\n",
    "Once your algorithm \"consumes\" a value from the generator, it is gone and cannot be retrieved again.\n",
    "Thus, unlike a `list`, a `generator` can have infinite length - we will see some examples of this later.\n",
    "\n",
    "These properties allow generators to be very efficient - they are generally designed to perform any computation required for each value \"just in time\", and thus consume almost no memory since the next data value doesn't actually exist until it is \"consumed\".  That's confusing!  Let's look at an example...\n",
    "\n",
    "A `generator expression` looks like a list comprehension, but uses parentheses (round brackets):"
   ],
   "metadata": {
    "collapsed": false
   },
   "id": "6a2d10bd5d4052ab"
  },
  {
   "cell_type": "code",
   "execution_count": 24,
   "outputs": [
    {
     "name": "stdout",
     "output_type": "stream",
     "text": [
      "<generator object <genexpr> at 0x14f4ada50>\n",
      "(0, 1, 2)\n",
      "(1, 2, 3)\n",
      "[(2, 3, 4), (3, 4, 5), (4, 5, 6), (5, 6, 7), (6, 7, 8), (7, 8, 9), (8, 9, 10)]\n",
      "[]\n"
     ]
    }
   ],
   "source": [
    "# 3-tuples of adjacent integers...\n",
    "neighbours = ((i-1, i, i+1) for i in range(1, 10))\n",
    "print(neighbours)\n",
    "# we can pull one item at a time out of a generator using the built-in next() function\n",
    "print(next(neighbours))\n",
    "print(next(neighbours))\n",
    "# we can turn a generator into a list to examine the rest of its elements (though this somewhat defeats the purpose!)\n",
    "print(list(neighbours))\n",
    "# Notice: once the \"stream\" has flowed past, it is empty - there is no way to \"replenish\" it.\n",
    "print(list(neighbours))"
   ],
   "metadata": {
    "collapsed": false,
    "ExecuteTime": {
     "end_time": "2024-01-01T21:46:43.029858Z",
     "start_time": "2024-01-01T21:46:43.019931Z"
    }
   },
   "id": "dca2fe6b5a89c206"
  },
  {
   "cell_type": "markdown",
   "source": [
    "## Generator Functions\n",
    "Generator expressions are very powerful when used effectively, but are generally limited to simple map and filter operations.  If your generator needs a more complex algorithm, or you want it to be more reusable, you can write it as a function.\n",
    "\n",
    "Here is the same generator written as a function:"
   ],
   "metadata": {
    "collapsed": false
   },
   "id": "80830e92384112b3"
  },
  {
   "cell_type": "code",
   "execution_count": 25,
   "outputs": [
    {
     "name": "stdout",
     "output_type": "stream",
     "text": [
      "<generator object neighbourhoods at 0x14f4adac0>\n",
      "(0, 1, 2)\n",
      "(1, 2, 3)\n",
      "[(2, 3, 4), (3, 4, 5), (4, 5, 6), (5, 6, 7), (6, 7, 8), (7, 8, 9), (8, 9, 10)]\n",
      "[]\n"
     ]
    }
   ],
   "source": [
    "def neighbourhoods(rng:range) -> tuple:\n",
    "    \"\"\" Generate 3-tuple neighbourhoods for each value in given range object \"\"\"\n",
    "    for i in rng:\n",
    "        yield (i-1, i, i+1)\n",
    "        \n",
    "n = neighbourhoods(range(1, 10))\n",
    "print(n)\n",
    "print(next(n))\n",
    "print(next(n))\n",
    "print(list(n))\n",
    "print(list(n))"
   ],
   "metadata": {
    "collapsed": false,
    "ExecuteTime": {
     "end_time": "2024-01-01T21:46:43.030245Z",
     "start_time": "2024-01-01T21:46:43.022449Z"
    }
   },
   "id": "6b0a97d46538a205"
  },
  {
   "cell_type": "markdown",
   "source": [
    "## Infinite Generator\n",
    "It is tempting to think of a generator as being similar to a list or tuple.  That's a bad model and will cause confusion and bugs.  A generator is best thought of as a \"stream of values\".  Each time you get the `next` value, you \"consume\" it, removing that value from the stream.   That's not how a list works at all!\n",
    "\n",
    "It is easiest to see the differences with an \"infinite\" generator - no such list can possibly exist, since the computer has a finite amount of memory in which to store the list.  But remember, generators a not stored in memory, their values are computed \"just in time\"!\n",
    "\n",
    "Some examples of \"infinite generators\" would be the digits of `pi`, or all prime numbers..."
   ],
   "metadata": {
    "collapsed": false
   },
   "id": "379e3dc97ca097d6"
  },
  {
   "cell_type": "code",
   "execution_count": 26,
   "outputs": [],
   "source": [
    "# Example: a generator of prime numbers\n",
    "# Note: These naive algorithms are to illustrate generators only.  There are more efficient ways to generate prime numbers! \n",
    "\n",
    "def is_prime(n):\n",
    "    \"\"\" Return True iff integer n is a prime number \"\"\"\n",
    "    # Note\n",
    "    assert type(n) is int and n >= 2\n",
    "    for d in range (2, round(math.sqrt(n)) + 1):\n",
    "        if n % d == 0: \n",
    "            return False\n",
    "    return True\n",
    "\n",
    "assert is_prime(11)\n",
    "assert is_prime(37)\n",
    "assert not is_prime(9)"
   ],
   "metadata": {
    "collapsed": false,
    "ExecuteTime": {
     "end_time": "2024-01-01T21:46:43.030373Z",
     "start_time": "2024-01-01T21:46:43.026161Z"
    }
   },
   "id": "46be5f43e9af213d"
  },
  {
   "cell_type": "code",
   "execution_count": 27,
   "outputs": [
    {
     "name": "stdout",
     "output_type": "stream",
     "text": [
      "('First 200 prime numbers: [2, 3, 5, 7, 11, 13, 17, 19, 23, 29, 31, 37, 41, '\n",
      " '43, 47, 53, 59, 61, 67, 71, 73, 79, 83, 89, 97, 101, 103, 107, 109, 113, '\n",
      " '127, 131, 137, 139, 149, 151, 157, 163, 167, 173, 179, 181, 191, 193, 197, '\n",
      " '199, 211, 223, 227, 229, 233, 239, 241, 251, 257, 263, 269, 271, 277, 281, '\n",
      " '283, 293, 307, 311, 313, 317, 331, 337, 347, 349, 353, 359, 367, 373, 379, '\n",
      " '383, 389, 397, 401, 409, 419, 421, 431, 433, 439, 443, 449, 457, 461, 463, '\n",
      " '467, 479, 487, 491, 499, 503, 509, 521, 523, 541, 547, 557, 563, 569, 571, '\n",
      " '577, 587, 593, 599, 601, 607, 613, 617, 619, 631, 641, 643, 647, 653, 659, '\n",
      " '661, 673, 677, 683, 691, 701, 709, 719, 727, 733, 739, 743, 751, 757, 761, '\n",
      " '769, 773, 787, 797, 809, 811, 821, 823, 827, 829, 839, 853, 857, 859, 863, '\n",
      " '877, 881, 883, 887, 907, 911, 919, 929, 937, 941, 947, 953, 967, 971, 977, '\n",
      " '983, 991, 997, 1009, 1013, 1019, 1021, 1031, 1033, 1039, 1049, 1051, 1061, '\n",
      " '1063, 1069, 1087, 1091, 1093, 1097, 1103, 1109, 1117, 1123, 1129, 1151, '\n",
      " '1153, 1163, 1171, 1181, 1187, 1193, 1201, 1213, 1217, 1223]')\n",
      "'Sum of first 200 prime numbers: 111587'\n"
     ]
    }
   ],
   "source": [
    "def primes():\n",
    "    \"\"\" An infinite stream of prime numbers.  Warning: do not try to make a list out of this!! \"\"\"\n",
    "    n = 2\n",
    "    while True:\n",
    "        while not is_prime(n):\n",
    "            n+=1\n",
    "        yield n\n",
    "        n+=1\n",
    "\n",
    "p = primes()\n",
    "N = 200\n",
    "pprint(f\"First {N} prime numbers: {[next(p) for _ in range(N)]}\")\n",
    "# A generator function can be re-used by calling it again...\n",
    "pprint(f\"Sum of first {N} prime numbers: {sum(p for p,_ in zip(primes(), range(N)))}\")"
   ],
   "metadata": {
    "collapsed": false,
    "ExecuteTime": {
     "end_time": "2024-01-01T21:46:43.040761Z",
     "start_time": "2024-01-01T21:46:43.034275Z"
    }
   },
   "id": "9b7cf89ad542cc42"
  },
  {
   "cell_type": "markdown",
   "source": [
    "### Generators everywhere!!!\n",
    "Once you learn to see them, you'll spot generators everywhere (at least in well-written code).\n",
    "\n",
    "In the last line of code from the example above, there are **4** generators!\n",
    "\n",
    "    sum(p for p,_ in zip(primes(), range(N)))\n",
    "\n",
    "1. `(p for p,_ in ....)`  a simple generator expression\n",
    "2. `zip(...)`  zip is a generator function that returns n-tuples from its input sequences\n",
    "3. `range(...)`  range is also a generator function that returns integers in a series\n",
    "4. `primes()`  of course, the generator function we just wrote."
   ],
   "metadata": {
    "collapsed": false
   },
   "id": "1bc20530589240c2"
  },
  {
   "cell_type": "code",
   "execution_count": 27,
   "outputs": [],
   "source": [],
   "metadata": {
    "collapsed": false,
    "ExecuteTime": {
     "end_time": "2024-01-01T21:46:43.040972Z",
     "start_time": "2024-01-01T21:46:43.036342Z"
    }
   },
   "id": "21075c9799e585d5"
  }
 ],
 "metadata": {
  "kernelspec": {
   "display_name": "Python 3",
   "language": "python",
   "name": "python3"
  },
  "language_info": {
   "codemirror_mode": {
    "name": "ipython",
    "version": 2
   },
   "file_extension": ".py",
   "mimetype": "text/x-python",
   "name": "python",
   "nbconvert_exporter": "python",
   "pygments_lexer": "ipython2",
   "version": "2.7.6"
  }
 },
 "nbformat": 4,
 "nbformat_minor": 5
}
