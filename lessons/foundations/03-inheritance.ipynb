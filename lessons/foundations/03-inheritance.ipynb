{
 "cells": [
  {
   "cell_type": "markdown",
   "source": [
    "# OO Programming Foundations:  Inheritance\n",
    "New Python syntax / Object-Oriented concepts - class inheritance\n",
    "\n",
    "Foundations notebook available on Github from the powderflask/cap-comp215 repository.\n",
    "As usual, the first code block just imports the modules we will use."
   ],
   "metadata": {
    "collapsed": false
   }
  },
  {
   "cell_type": "code",
   "execution_count": 3,
   "metadata": {
    "collapsed": true,
    "ExecuteTime": {
     "end_time": "2024-01-01T00:58:40.358541Z",
     "start_time": "2024-01-01T00:58:40.353923Z"
    }
   },
   "outputs": [],
   "source": [
    "import math"
   ]
  },
  {
   "cell_type": "markdown",
   "source": [
    "## Class Inheritance\n",
    "* use with caution - there is **much** to learn about using inheritance correctly!\n",
    "* always prefer to use **composition** to share code\n",
    "* see Ch. 19 in Comp115 Think Python textbook for more examples"
   ],
   "metadata": {
    "collapsed": false
   }
  },
  {
   "cell_type": "code",
   "execution_count": 4,
   "outputs": [
    {
     "name": "stdout",
     "output_type": "stream",
     "text": [
      "3 different kinds of points: <class '__main__.Point2D'> (3, 4) <class '__main__.PolarPoint2D'> (2.99, 4.01) <class '__main__.LabelledPoint2D'> (6, 8)-Here\n",
      "Polar coordinates: p1: (5.0, 0.9272952180016122)  p2: (5.0, 0.9299999999999999)\n",
      "Distance from (3, 4) to (2.99, 4.01) : 0.013523905869487528  and visa versa: 0.013523905869487528\n",
      "Distance from (3, 4) to (6, 8)-Here : 5.0  and visa versa: 5.0\n"
     ]
    }
   ],
   "source": [
    "class Point2D:\n",
    "    \"\"\" A point on the 2D Cartesian plane \"\"\"\n",
    "    def __init__(self, x, y):\n",
    "        self.x = x\n",
    "        self.y = y\n",
    "\n",
    "    def __str__(self):\n",
    "        return '({x}, {y})'.format(x=round(self.x,2), y=round(self.y,2))\n",
    "\n",
    "    def distance(self, other):\n",
    "        \"\"\" Return distance between this point and other Point2D \"\"\"\n",
    "        return math.sqrt((self.x-other.x)**2 + (self.y-other.y)**2)\n",
    "\n",
    "    @property\n",
    "    def r(self):\n",
    "        \"\"\" length, r, from origin to this point \"\"\"\n",
    "        return self.distance(Point2D(0,0))\n",
    "\n",
    "    @property\n",
    "    def theta(self):\n",
    "        \"\"\" angle, in radians, of vector to this point \"\"\"\n",
    "        return math.atan2(self.y, self.x)  # faster than SohCahToa\n",
    "\n",
    "    def polar_coord(self):\n",
    "        \"\"\" return the polar coordinate for this point \"\"\"\n",
    "        return (self.r, self.theta)\n",
    "\n",
    "\n",
    "class PolarPoint2D(Point2D):\n",
    "    \"\"\" A point on the 2D Cartesian plane specified in polar coordinates \"\"\"\n",
    "    def __init__(self, r, theta):\n",
    "        \"\"\" define point by length r and angle, theta, in radians \"\"\"\n",
    "        super().__init__(x=r*math.cos(theta), y=r*math.sin(theta))\n",
    "\n",
    "\n",
    "class LabelledPoint2D(Point2D):\n",
    "    \"\"\" A labelled point on a 2D Cartesian plane \"\"\"\n",
    "    def __init__(self, x, y, label):\n",
    "        super().__init__(x, y)\n",
    "        self.label = label\n",
    "\n",
    "    def __str__(self):\n",
    "        return '{point}-{label}'.format(point=super().__str__(), label=self.label)\n",
    "\n",
    "\n",
    "p1 = Point2D(3, 4)\n",
    "p2 = PolarPoint2D(5, 0.93)\n",
    "p3 = LabelledPoint2D(6, 8, 'Here')\n",
    "\n",
    "print('3 different kinds of points:', type(p1), p1, type(p2), p2, type(p3), p3)\n",
    "print('Polar coordinates: p1:', p1.polar_coord(), ' p2:', p2.polar_coord())\n",
    "print('Distance from', p1,'to', p2, ':', p1.distance(p2), ' and visa versa:', p2.distance(p1))\n",
    "print('Distance from', p1, 'to', p3, ':', p1.distance(p3), ' and visa versa:', p3.distance(p1))"
   ],
   "metadata": {
    "collapsed": false,
    "pycharm": {
     "name": "#%%\n"
    },
    "ExecuteTime": {
     "end_time": "2024-01-01T00:58:40.368177Z",
     "start_time": "2024-01-01T00:58:40.363422Z"
    }
   }
  }
 ],
 "metadata": {
  "kernelspec": {
   "display_name": "Python 3",
   "language": "python",
   "name": "python3"
  },
  "language_info": {
   "codemirror_mode": {
    "name": "ipython",
    "version": 2
   },
   "file_extension": ".py",
   "mimetype": "text/x-python",
   "name": "python",
   "nbconvert_exporter": "python",
   "pygments_lexer": "ipython2",
   "version": "2.7.6"
  }
 },
 "nbformat": 4,
 "nbformat_minor": 0
}
