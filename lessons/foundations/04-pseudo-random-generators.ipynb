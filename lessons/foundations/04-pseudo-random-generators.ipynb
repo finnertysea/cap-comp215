{
 "cells": [
  {
   "cell_type": "markdown",
   "source": [
    "# Programming Foundations:  Pseudo-random Number Generators\n",
    "New Programming concepts - generating pseudo-random sequences\n",
    "\n",
    "Foundations notebook available on Github from the powderflask/cap-comp215 repository.\n",
    "As usual, the first code block just imports the modules we will use."
   ],
   "metadata": {
    "collapsed": false
   },
   "id": "b440028b0e4da231"
  },
  {
   "cell_type": "code",
   "execution_count": 44,
   "outputs": [],
   "source": [
    "import time\n",
    "from pprint import pprint"
   ],
   "metadata": {
    "collapsed": false,
    "ExecuteTime": {
     "end_time": "2024-01-01T21:44:54.013715Z",
     "start_time": "2024-01-01T21:44:53.995720Z"
    }
   },
   "id": "2d782bf8ed66d7ed"
  },
  {
   "cell_type": "markdown",
   "source": [
    "\n",
    "## Randomness in a Deterministic Machine?\n",
    "A computer is designed to be perfectly [deterministic](https://en.wikipedia.org/wiki/Determinism#Modern_scientific_perspective).  One of its core super-powers is an ability to faithfully carry out arbitrarily complex computations and always produce the same output given the same inputs.\n",
    "\n",
    "How can a machine that is designed to be deterministic produce random outputs?\n",
    "\n",
    "Chaos\n",
    ": \"Chaos theory concerns deterministic systems whose behavior can, in principle, be predicted but 'appear' to be random.\"  [wikipedia](https://en.wikipedia.org/wiki/Chaos_theory)\n",
    "\n",
    "Finding chaotic algorithms that produce good [\"pseudo-random\" number generators](https://en.wikipedia.org/wiki/Pseudorandom_number_generator) (**PRNG**) is a an important area of [theoretical and applied research in Computing Science](https://scholar.google.ca/scholar?hl=en&q=pseudo-random+number+generator+computer+science+research), used in a wide variety of [scientific fields](https://en.wikipedia.org/wiki/Randomness#In_science), and underpins many critical systems, like [encryption](https://en.wikipedia.org/wiki/Encryption)."
   ],
   "metadata": {
    "collapsed": false
   },
   "id": "6a2d10bd5d4052ab"
  },
  {
   "cell_type": "markdown",
   "source": [
    "### Linear congruential generator\n",
    "\n",
    "$X_{n+1} = (aX_n + c) \\bmod m$\n",
    "\n",
    "This is one of the original PRNG algorithms, but is no longer considered good enough for production use. \n",
    "[wikipedia](https://en.wikipedia.org/wiki/Linear_congruential_generator)\n",
    "\n",
    "Nonetheless, it is simple and can be instructive to see how a deterministic algorithm can produce a sequence of outputs that appear to be random..."
   ],
   "metadata": {
    "collapsed": false
   },
   "id": "f1f5aadd21f3282a"
  },
  {
   "cell_type": "code",
   "execution_count": 45,
   "outputs": [
    {
     "name": "stdout",
     "output_type": "stream",
     "text": [
      "LCG sequence:\n"
     ]
    },
    {
     "data": {
      "text/plain": "[1917866041,\n 700036734,\n 2099333087,\n 546028588,\n 618444533,\n 674675850,\n 696025851,\n 588148504,\n 1468976497,\n 1623988054]"
     },
     "execution_count": 45,
     "metadata": {},
     "output_type": "execute_result"
    }
   ],
   "source": [
    "def lcg(seed=None, a=1103515245, c=12345, m=2**31):\n",
    "    \"\"\" Linear Congruential PRNG generator.  Returns integers between 0 and m \"\"\"\n",
    "    x_n = seed or int(time.time()*10**3)  # every PRNG requires a \"seed\" - the value of X0\n",
    "    while True:\n",
    "        x_n = (a * x_n + c) % m\n",
    "        yield x_n\n",
    "\n",
    "rand = lcg()\n",
    "\n",
    "print('LCG sequence:')\n",
    "[next(rand) for i in range(10)]"
   ],
   "metadata": {
    "collapsed": false,
    "ExecuteTime": {
     "end_time": "2024-01-01T21:44:54.031331Z",
     "start_time": "2024-01-01T21:44:54.018477Z"
    }
   },
   "id": "21075c9799e585d5"
  },
  {
   "cell_type": "markdown",
   "source": [
    "## Python's built-in `random` package\n",
    "Python comes \"[batteries included](https://peps.python.org/pep-0206/)\", so provides a basic PRNG, `[random](https://docs.python.org/3/library/random.html)`, with several transformations sufficient for most applications..."
   ],
   "metadata": {
    "collapsed": false
   },
   "id": "ad76cd87d9214163"
  },
  {
   "cell_type": "code",
   "execution_count": 46,
   "outputs": [
    {
     "name": "stdout",
     "output_type": "stream",
     "text": [
      "('Random floats on [0..1): [0.11794548900030499, 0.38913405104033183, '\n",
      " '0.6968191608755544, 0.37565672585139775, 0.33954575746158056, '\n",
      " '0.0015070530342395916, 0.8158055313711954, 0.5383794200291888, '\n",
      " '0.15795434322455426, 0.186856201619238]')\n",
      "'Random dice rolls: [1, 4, 1, 6, 6, 3, 4, 2, 1, 2]'\n",
      "(\"Random coin flips: ['Tails', 'Heads', 'Tails', 'Tails', 'Tails', 'Tails', \"\n",
      " \"'Heads', 'Tails', 'Tails', 'Tails']\")\n",
      "('Random sample of factors of 3: [219, 501, 348, 591, 60, 171, 249, 666, 138, '\n",
      " '993]')\n"
     ]
    }
   ],
   "source": [
    "import random\n",
    "\n",
    "random.seed(987654)  # supply a seed for a repeatable sequence, or not to seed with time\n",
    "pprint(f'Random floats on [0..1): {[random.random() for i in range(10)]}')\n",
    "pprint(f'Random dice rolls: {[random.randint(1, 6) for i in range(10)]}')\n",
    "pprint(f'Random coin flips: {[random.choice((\"Heads\", \"Tails\")) for i in range(10)]}')\n",
    "pprint(f'Random sample of factors of 3: {random.sample(range(3, 1000, 3),k=10)}')"
   ],
   "metadata": {
    "collapsed": false,
    "ExecuteTime": {
     "end_time": "2024-01-01T21:44:54.031562Z",
     "start_time": "2024-01-01T21:44:54.023889Z"
    }
   },
   "id": "c75ff0d919947c96"
  },
  {
   "cell_type": "markdown",
   "source": [
    "## Numpy np.random package\n",
    "Numpy provides a similar PRNG, also named `[random](https://numpy.org/doc/stable/reference/random/index.html)`, with some extended transformations.\n",
    "\n",
    "`np.random` can improve performance when a large volume of pseudo-random numbers are required.\n",
    "It also has some advanced features, like providing different underlying PRNG algorithms, and abstractions that will, for example, generate an array of random values of any shape in a single statement.\n",
    "\n",
    "In general, you should choose to work with just one PRNG in a given project - the pseudo-random sequence tends to be better when you just have a single seed."
   ],
   "metadata": {
    "collapsed": false
   },
   "id": "f20723e43e09b0d5"
  },
  {
   "cell_type": "code",
   "execution_count": 47,
   "outputs": [
    {
     "name": "stdout",
     "output_type": "stream",
     "text": [
      "Timings for 1000000 normal distributed random numbers\n",
      "Python's built-in random:\n",
      "439 ms ± 82.9 ms per loop (mean ± std. dev. of 7 runs, 1 loop each)\n",
      "Numpy's np.random:\n",
      "14.2 ms ± 77.7 µs per loop (mean ± std. dev. of 7 runs, 100 loops each)\n"
     ]
    }
   ],
   "source": [
    "import numpy as np\n",
    "\n",
    "N = 10**6\n",
    "print(f'Timings for {N} normal distributed random numbers')\n",
    "\n",
    "print(\"Python's built-in random:\")\n",
    "%timeit samples = [random.normalvariate(0, 1) for _ in range(N)]\n",
    "\n",
    "print(\"Numpy's np.random:\")\n",
    "%timeit np.random.normal(size=N)"
   ],
   "metadata": {
    "collapsed": false,
    "ExecuteTime": {
     "end_time": "2024-01-01T21:45:09.043367Z",
     "start_time": "2024-01-01T21:44:54.102840Z"
    }
   },
   "id": "c6808c458e79e7c7"
  },
  {
   "cell_type": "markdown",
   "source": [
    "Most of `np.random` generator methods take an optional `size` parameter defining the shape of the output...\n"
   ],
   "metadata": {
    "collapsed": false
   },
   "id": "2d7da75ed2285213"
  },
  {
   "cell_type": "code",
   "execution_count": 48,
   "outputs": [
    {
     "data": {
      "text/plain": "array([[7, 3, 1, 6],\n       [9, 1, 7, 3],\n       [3, 5, 5, 3],\n       [7, 1, 4, 4]])"
     },
     "execution_count": 48,
     "metadata": {},
     "output_type": "execute_result"
    }
   ],
   "source": [
    "np.random.randint(1, 10, size=(4, 4))"
   ],
   "metadata": {
    "collapsed": false,
    "ExecuteTime": {
     "end_time": "2024-01-01T21:45:09.047497Z",
     "start_time": "2024-01-01T21:45:09.044575Z"
    }
   },
   "id": "c01aea8969b883b1"
  },
  {
   "cell_type": "code",
   "execution_count": 48,
   "outputs": [],
   "source": [],
   "metadata": {
    "collapsed": false,
    "ExecuteTime": {
     "end_time": "2024-01-01T21:45:09.050193Z",
     "start_time": "2024-01-01T21:45:09.047606Z"
    }
   },
   "id": "4b19a8cc3bd8e14"
  }
 ],
 "metadata": {
  "kernelspec": {
   "display_name": "Python 3",
   "language": "python",
   "name": "python3"
  },
  "language_info": {
   "codemirror_mode": {
    "name": "ipython",
    "version": 2
   },
   "file_extension": ".py",
   "mimetype": "text/x-python",
   "name": "python",
   "nbconvert_exporter": "python",
   "pygments_lexer": "ipython2",
   "version": "2.7.6"
  }
 },
 "nbformat": 4,
 "nbformat_minor": 5
}
